{
 "cells": [
  {
   "cell_type": "raw",
   "metadata": {},
   "source": [
    "Membres du groupe:\n",
    "    BRENCKLE Gaetan\n",
    "    DECOUTY Hugo\n",
    "    GUITTON Elie\n",
    "    JUBERT Baptiste (pas sûr qu'on le garde... :/)\n",
    "    Jarvis (le bot) "
   ]
  },
  {
   "cell_type": "code",
   "execution_count": 3,
   "metadata": {},
   "outputs": [
    {
     "data": {
      "text/plain": [
       "True"
      ]
     },
     "execution_count": 3,
     "metadata": {},
     "output_type": "execute_result"
    }
   ],
   "source": [
    "from sklearn.tree import DecisionTreeClassifier\n",
    "from sklearn import datasets\n",
    "from IPython.display import Image\n",
    "from sklearn import tree\n",
    "import pydotplus\n",
    "\n",
    "# Charger data\n",
    "iris = datasets.load_iris()\n",
    "X = iris.data\n",
    "y = iris.target\n",
    "\n",
    "\n",
    "# Créer Arbre\n",
    "clf_decisiontree = DecisionTreeClassifier(criterion = \"entropy\", random_state=0)\n",
    "\n",
    "# Modèle\n",
    "model = clf_decisiontree.fit(X, y)\n",
    "\n",
    "# Créer un point\n",
    "dot_data = tree.export_graphviz(clf_decisiontree, out_file=None,\n",
    "                                feature_names=iris.feature_names,\n",
    "                                class_names=iris.target_names)\n",
    "\n",
    "# Dessiner le graphe\n",
    "graph = pydotplus.graph_from_dot_data(dot_data)\n",
    "\n",
    "# Montrer le graphe\n",
    "Image(graph.create_png())\n",
    "\n",
    "# Créer un PNG du graphe\n",
    "graph.write_png(\"test.png\")"
   ]
  },
  {
   "cell_type": "markdown",
   "metadata": {},
   "source": [
    "# Moteur de l'AEF"
   ]
  },
  {
   "cell_type": "markdown",
   "metadata": {},
   "source": [
    "## Objectifs"
   ]
  },
  {
   "cell_type": "markdown",
   "metadata": {},
   "source": [
    "Le but de cette première partie est de <u>construire un moteur d’exécution d’automates à états\n",
    "finis, déterministes et sans λ-transitions</u>.<br>\n",
    "* Le moteur commence par consulter la description (fichier <span style=\"color: #0000FF\">.descr</span>, expliqué à la fin du document\n",
    "de cours ou sur Moodle) de l’automate <span style=\"color: #FF0000\">**A**</span> qu’il incarne et afficher cette description, à fins de\n",
    "vérification.<br>\n",
    "* Vous implémenterez également une méthode permettant d’exporter vos automates au format\n",
    ".dot utilisé par Graphviz. En utilisant Graphviz, vous pourrez alors générer des images .png\n",
    "de vos automates. La grammaire des fichiers .dot est expliquée dans le mode d’emploi déposé\n",
    "sur Moodle (dotguide).\n",
    "* Le moteur d’automage est capable de traiter les entrées qu’on lui fournit. Les différents mots\n",
    "fournis seront séparés par des espaces ou des retours à la ligne. Pour signifier la fin de la saisie\n",
    "des entrées vous utiliserez <span style=\"color: #26B260\">###</span>. \n",
    "* Il est également rappelé que la phrase vide est pertinente.\n",
    "\n",
    "Pour chacune des entrées qu’il analyse, le moteur produit :\n",
    "* La liste des configurations successives de l’automate,\n",
    "* La sortie éventuellement produite,\n",
    "* Le diagnostic d’acceptation de l’entrée ou l’explication d’un éventuel blocage.\n",
    "<br><br>\n",
    "Lors de la démonstration à un enseignant, <u>votre moteur doit indiquer clairement l’état dans\n",
    "lequel l’automate s’est arrêté</u> : l’automate est bloqué au milieu d’un mot et le moteur justifie\n",
    "pourquoi, l’automate a tout lu et le moteur explique si le mot est accepté ou pas, etc.\n",
    "\n",
    "### Rappels :\n",
    "* Un automate déterministe possède un seul état initial, mais peut avoir plusieurs états\n",
    "acceptants.\n",
    "* Un automate qui a plusieurs états initiaux est nécessairement non déterministe.\n",
    "* Un automate peut générer des sorties. Nous ne considèrerons pas d’automates non-déterministes générant des sorties, par contre vous devez dans cette première partie prendre\n",
    "en compte les éventuelles sorties.\n",
    "* Un automate non-complet peut bloquer au milieu d’un mot, faute de trouver une transition.\n"
   ]
  },
  {
   "cell_type": "code",
   "execution_count": null,
   "metadata": {},
   "outputs": [],
   "source": []
  },
  {
   "cell_type": "markdown",
   "metadata": {},
   "source": [
    "## Description de l'automate"
   ]
  },
  {
   "cell_type": "markdown",
   "metadata": {},
   "source": [
    "Elle est contenue dans un fichier <span style=\"color: #0000FF\">.descr</span> et respecte la syntaxe définie en annexe.\n",
    "Pour tester votre moteur d’automate, **<u>vous devez créer vous-même des automates de test</u>**.<br>\n",
    "Les enseignants valideront votre travail à l’aide de leurs propres jeux d’essais, conformes à cette\n",
    "syntaxe.<br><br>\n",
    "Dans un premier temps, vous ne travaillez qu’avec des automates déterministes mais votre\n",
    "moteur devra ensuite être capable de travailler avec tous les automates définis par un fichier\n",
    "<span style= \"color: #0000FF\">.descr</span>. En particulier, un automate ayant plusieurs états initiaux, ayant des λ-transitions, etc.<br>\n",
    "Prenez également soin de <u>maintenir un code propre et commenté</u> ; validez vous-même votre code\n",
    "à l’aide de **<u>tests unitaires</u>**."
   ]
  },
  {
   "cell_type": "code",
   "execution_count": null,
   "metadata": {},
   "outputs": [],
   "source": []
  },
  {
   "cell_type": "markdown",
   "metadata": {},
   "source": [
    "# Déterminisation d’un AEFND\n"
   ]
  },
  {
   "cell_type": "markdown",
   "metadata": {},
   "source": [
    "## Objectifs"
   ]
  },
  {
   "cell_type": "markdown",
   "metadata": {},
   "source": [
    "Le but de cette partie est d’étendre le travail précédent avec la <u>déterminisation d’un automate\n",
    "N non-déterministe avec λ−transitions</u>.<br>\n",
    "Votre application construira l’automate déterministe  <span style=\"color: #FF0000\">D</span> équivalent à  <span style=\"color: #FF0000\">N</span> et en produira une\n",
    "représentation compatible avec le moteur que vous avez mis au point dans la première partie.\n",
    "Vous devez donc pouvoir faire fonctionner  <span style=\"color: #FF0000\">N</span> en deux étapes :\n",
    "* Déterminisation de  <span style=\"color: #FF0000\">N</span> avec cette seconde partie (donne  <span style=\"color: #FF0000\">D</span>)\n",
    "* Emulation de  <span style=\"color: #FF0000\">D</span> par le moteur de la première partie."
   ]
  },
  {
   "cell_type": "markdown",
   "metadata": {},
   "source": [
    "## Description de l’AEF non déterministe"
   ]
  },
  {
   "cell_type": "markdown",
   "metadata": {},
   "source": [
    "C’est la même que celle de la partie précédente (fichier <span style= \"color: #0000FF\">.descr</span>). Vous aurez probablement à\n",
    "modifier les méthodes de lecture d’un automate à partir d’un fichier <span style= \"color: #0000FF\">.descr</span> pour tenir compte\n",
    "des états initiaux multiples, des λ−transitions et des configurations à états successeurs multiples."
   ]
  },
  {
   "cell_type": "markdown",
   "metadata": {},
   "source": [
    "## Description de l'AEF déterministe produit"
   ]
  },
  {
   "cell_type": "markdown",
   "metadata": {},
   "source": [
    "Elle sera contenue dans un fichier texte et respectera les contraintes de la première partie. Vous\n",
    "implémenterez donc une méthode permettant d’exporter au format <span style= \"color: #0000FF\">.descr</span>.\n",
    "Elle devra pouvoir être fournie au moteur de la première partie, sans modification."
   ]
  },
  {
   "cell_type": "markdown",
   "metadata": {},
   "source": [
    "## Algorithme mis en oeuvre"
   ]
  },
  {
   "cell_type": "markdown",
   "metadata": {},
   "source": [
    "C’est celui vu en cours. Vous n’avez pas, ici, à minimiser l’automate obtenu.<br>\n",
    "Pour illustrer votre compréhension de cet algorithme et favoriser la mise au point de votre\n",
    "application, il serait souhaitable que les m´ethodes calculant λ-fermeture(T) et transiter(T, a)\n",
    "soient explicitées dans votre code.<br>\n",
    "Ce n’est donc peut-être pas une perte de temps, que de formuler la structure de votre code, en\n",
    "utilisant au plus près le formalisme du document de cours . . .<br>\n"
   ]
  },
  {
   "cell_type": "markdown",
   "metadata": {},
   "source": [
    "# Bilan"
   ]
  },
  {
   "cell_type": "markdown",
   "metadata": {},
   "source": [
    "Une fois cette deuxième étape terminée, votre projet doit être capable de :\n",
    "* Lire un fichier <span style= \"color: #0000FF\">.descr</span> d’automate quelconque (déterministe ou non, avec lambda-transitions,\n",
    "plusieurs états initiaux, etc.).\n",
    "* Produire un fichier <span style= \"color: #0000FF\">.descr</span> ou <span style= \"color: #0000FF\">.dot</span>.\n",
    "* Une fois l’automate chargé en mémoire, lire des phrases et les analyser.\n",
    "* Déterminiser un automate."
   ]
  },
  {
   "cell_type": "code",
   "execution_count": null,
   "metadata": {},
   "outputs": [],
   "source": []
  }
 ],
 "metadata": {
  "kernelspec": {
   "display_name": "Python 3",
   "language": "python",
   "name": "python3"
  },
  "language_info": {
   "codemirror_mode": {
    "name": "ipython",
    "version": 3
   },
   "file_extension": ".py",
   "mimetype": "text/x-python",
   "name": "python",
   "nbconvert_exporter": "python",
   "pygments_lexer": "ipython3",
   "version": "3.8.3"
  }
 },
 "nbformat": 4,
 "nbformat_minor": 4
}